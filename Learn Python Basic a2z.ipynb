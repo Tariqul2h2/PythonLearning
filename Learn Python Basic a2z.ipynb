{
 "cells": [
  {
   "cell_type": "code",
   "execution_count": 1,
   "metadata": {},
   "outputs": [
    {
     "name": "stdout",
     "output_type": "stream",
     "text": [
      "hello Python\n"
     ]
    }
   ],
   "source": [
    "#how to print in Python\n",
    "print('hello Python')"
   ]
  },
  {
   "cell_type": "code",
   "execution_count": 2,
   "metadata": {},
   "outputs": [
    {
     "name": "stdout",
     "output_type": "stream",
     "text": [
      "1\n",
      "6\n"
     ]
    },
    {
     "data": {
      "text/plain": [
       "26.641000000000002"
      ]
     },
     "execution_count": 2,
     "metadata": {},
     "output_type": "execute_result"
    }
   ],
   "source": [
    "#there are mostly three common variables, integer, float and string\n",
    "#we don't need to assign declare data type, python will take automatically. i.e you don't need to type int q = 1, just write \n",
    "q = 1\n",
    "print(q)\n",
    "p = 5\n",
    "print(p+q) \n",
    "num1 = 3.32\n",
    "num2 = 23.321\n",
    "num1+num2 #you can do basic sum like this"
   ]
  },
  {
   "cell_type": "code",
   "execution_count": 3,
   "metadata": {},
   "outputs": [
    {
     "name": "stdout",
     "output_type": "stream",
     "text": [
      "3\n",
      "5.0\n",
      "1\n",
      "1.23\n"
     ]
    }
   ],
   "source": [
    "print(int(3.2))\n",
    "print(float(p))#this way you can cast varables .You can't cast string as integer, like int('A') but you can convert a float or\n",
    "#integer as string\n",
    "print(str(1))\n",
    "print(str(1.23))"
   ]
  },
  {
   "cell_type": "code",
   "execution_count": 4,
   "metadata": {},
   "outputs": [
    {
     "name": "stdout",
     "output_type": "stream",
     "text": [
      "False\n"
     ]
    },
    {
     "data": {
      "text/plain": [
       "True"
      ]
     },
     "execution_count": 4,
     "metadata": {},
     "output_type": "execute_result"
    }
   ],
   "source": [
    "print(bool(0))\n",
    "bool(1) #we can cast here to boolean also"
   ]
  },
  {
   "cell_type": "code",
   "execution_count": 5,
   "metadata": {},
   "outputs": [
    {
     "name": "stdout",
     "output_type": "stream",
     "text": [
      "hello world\n"
     ]
    }
   ],
   "source": [
    "#string can be represent as single quote or double quote\n",
    "name = (\"Tariqul Hasan\")\n",
    "#len(name)\n",
    "#name[3:10]\n",
    "#name[:6:]\n",
    "name[5::]\n",
    "#name[::2]\n",
    "# for letter in name:\n",
    "#     if letter in 'aeiou':\n",
    "#         print(letter)\n",
    "newstring = name + \" is my name\"\n",
    "newstring[9:14:]\n",
    "tupples = 3 *name+\" \"\n",
    "tupples\n",
    "print(r\"hello world\")"
   ]
  },
  {
   "cell_type": "code",
   "execution_count": 6,
   "metadata": {},
   "outputs": [
    {
     "name": "stdout",
     "output_type": "stream",
     "text": [
      "TARIQUL HASAN\n",
      "tariqul hasan\n"
     ]
    }
   ],
   "source": [
    "upperC=name.upper()\n",
    "LowerB=name.lower()\n",
    "print(upperC)\n",
    "print(LowerB)"
   ]
  },
  {
   "cell_type": "code",
   "execution_count": 7,
   "metadata": {},
   "outputs": [
    {
     "name": "stdout",
     "output_type": "stream",
     "text": [
      "Tariqul Rabbi\n"
     ]
    },
    {
     "data": {
      "text/plain": [
       "8"
      ]
     },
     "execution_count": 7,
     "metadata": {},
     "output_type": "execute_result"
    }
   ],
   "source": [
    "nameC = name.replace(\"Hasan\", \"Rabbi\")\n",
    "print(nameC)\n",
    "nameC.find('Rabbi')"
   ]
  },
  {
   "cell_type": "code",
   "execution_count": 8,
   "metadata": {},
   "outputs": [
    {
     "name": "stdout",
     "output_type": "stream",
     "text": [
      "Li\n"
     ]
    }
   ],
   "source": [
    "names = \"Lizz\"\n",
    "print(names[0:2])"
   ]
  },
  {
   "cell_type": "code",
   "execution_count": 9,
   "metadata": {},
   "outputs": [
    {
     "name": "stdout",
     "output_type": "stream",
     "text": [
      "0246\n"
     ]
    }
   ],
   "source": [
    "var = '01234567'\n",
    "print(var[::2])"
   ]
  },
  {
   "cell_type": "code",
   "execution_count": 10,
   "metadata": {},
   "outputs": [
    {
     "data": {
      "text/plain": [
       "'12'"
      ]
     },
     "execution_count": 10,
     "metadata": {},
     "output_type": "execute_result"
    }
   ],
   "source": [
    "'1'+'2'"
   ]
  },
  {
   "cell_type": "code",
   "execution_count": 11,
   "metadata": {},
   "outputs": [
    {
     "data": {
      "text/plain": [
       "1"
      ]
     },
     "execution_count": 11,
     "metadata": {},
     "output_type": "execute_result"
    }
   ],
   "source": [
    "int(1.0)"
   ]
  },
  {
   "cell_type": "code",
   "execution_count": 12,
   "metadata": {},
   "outputs": [
    {
     "data": {
      "text/plain": [
       "True"
      ]
     },
     "execution_count": 12,
     "metadata": {},
     "output_type": "execute_result"
    }
   ],
   "source": [
    "bool(1)"
   ]
  },
  {
   "cell_type": "code",
   "execution_count": 13,
   "metadata": {},
   "outputs": [
    {
     "data": {
      "text/plain": [
       "'0246'"
      ]
     },
     "execution_count": 13,
     "metadata": {},
     "output_type": "execute_result"
    }
   ],
   "source": [
    "Numbers=\"0123456\"\n",
    "Numbers[::2]"
   ]
  },
  {
   "cell_type": "code",
   "execution_count": 14,
   "metadata": {},
   "outputs": [
    {
     "data": {
      "text/plain": [
       "1"
      ]
     },
     "execution_count": 14,
     "metadata": {},
     "output_type": "execute_result"
    }
   ],
   "source": [
    "\"0123456\".find('1')"
   ]
  },
  {
   "cell_type": "code",
   "execution_count": 15,
   "metadata": {},
   "outputs": [
    {
     "name": "stdout",
     "output_type": "stream",
     "text": [
      "I'm not zero\n"
     ]
    }
   ],
   "source": [
    "x = 1\n",
    "if x>0:\n",
    "    print(\"I'm not zero\")\n",
    "elif x<0:\n",
    "     print(\"I'm less than zero\")"
   ]
  },
  {
   "cell_type": "code",
   "execution_count": 16,
   "metadata": {},
   "outputs": [
    {
     "name": "stdout",
     "output_type": "stream",
     "text": [
      "All statement is correct \n"
     ]
    }
   ],
   "source": [
    "#Same line code with multiple line\n",
    "x = 0\n",
    "y = 1 \n",
    "z = 2\n",
    "u = 3\n",
    "v = 4\n",
    "if x == 0 and y > 0 \\\n",
    "   and z > 1 and u >2 \\\n",
    "    and v > 3:\n",
    "    print(\"All statement is correct \")"
   ]
  },
  {
   "cell_type": "code",
   "execution_count": 17,
   "metadata": {},
   "outputs": [
    {
     "name": "stdout",
     "output_type": "stream",
     "text": [
      "Hello \n",
      "World!\n"
     ]
    }
   ],
   "source": [
    "#multiple statement in a single line\n",
    "print(\"Hello \");print(\"World!\")"
   ]
  },
  {
   "cell_type": "code",
   "execution_count": 18,
   "metadata": {},
   "outputs": [],
   "source": [
    "# Python Reserve words:\n",
    "\n",
    "# The following identifiers are used as reserved words of the language, and cannot be used as ordinary identifiers.\n",
    "\n",
    "# false\tclass\tfinally\tis\treturn\n",
    "# none\tcontinue\tfor\tlambda\ttry\n",
    "# true\tdef\tfrom\tnonlocal\twhile\n",
    "# and\tdel\tglobal\tnot\twith\n",
    "# as\tel\tif\tor\tyield\n",
    "# assert\telse\timport\tpass\t \n",
    "# break\texcept\tin\traise"
   ]
  },
  {
   "cell_type": "code",
   "execution_count": 19,
   "metadata": {
    "scrolled": true
   },
   "outputs": [
    {
     "name": "stdout",
     "output_type": "stream",
     "text": [
      "100000000000.0\n"
     ]
    }
   ],
   "source": [
    "x = 10e10\n",
    "print(x)"
   ]
  },
  {
   "cell_type": "code",
   "execution_count": 20,
   "metadata": {},
   "outputs": [
    {
     "name": "stdout",
     "output_type": "stream",
     "text": [
      "6 5\n"
     ]
    }
   ],
   "source": [
    "x = 5\n",
    "y = 6\n",
    "x,y = y,x\n",
    "print(x,y)"
   ]
  },
  {
   "cell_type": "code",
   "execution_count": 21,
   "metadata": {},
   "outputs": [
    {
     "name": "stdout",
     "output_type": "stream",
     "text": [
      "inside func1() is  I'm local\n",
      "inside func2() is  I'm global\n"
     ]
    }
   ],
   "source": [
    "#local and global vairables\n",
    "var1 = \"I'm global\"\n",
    "def func1():\n",
    "    var1 = \"I'm local\"\n",
    "    print(\"inside func1() is \",var1)\n",
    "def func2():\n",
    "    print(\"inside func2() is \", var1)\n",
    "    \n",
    "func1()\n",
    "func2()"
   ]
  },
  {
   "cell_type": "code",
   "execution_count": 22,
   "metadata": {},
   "outputs": [
    {
     "name": "stdout",
     "output_type": "stream",
     "text": [
      "inside func1() is  I'm local\n",
      "inside func2() is  I'm local\n"
     ]
    }
   ],
   "source": [
    "#using global variable\n",
    "\n",
    "def func1():\n",
    "    global var1\n",
    "    var1 = \"I'm local\"\n",
    "    print(\"inside func1() is \",var1)\n",
    "def func2():\n",
    "    print(\"inside func2() is \", var1)\n",
    "    \n",
    "func1()\n",
    "func2()"
   ]
  },
  {
   "cell_type": "code",
   "execution_count": 23,
   "metadata": {},
   "outputs": [
    {
     "name": "stdout",
     "output_type": "stream",
     "text": [
      "3.142857142857143\n"
     ]
    }
   ],
   "source": [
    "pi = 22/7\n",
    "x = pi\n",
    "print(x)"
   ]
  },
  {
   "cell_type": "code",
   "execution_count": 24,
   "metadata": {},
   "outputs": [
    {
     "name": "stdout",
     "output_type": "stream",
     "text": [
      "(4+9j)\n"
     ]
    }
   ],
   "source": [
    "#complex Number\n",
    "# x = complex(1,2)\n",
    "# print(x)\n",
    "x = complex(3,2)\n",
    "y = complex(1,7)\n",
    "z = x+y\n",
    "print(z)"
   ]
  },
  {
   "cell_type": "code",
   "execution_count": 25,
   "metadata": {},
   "outputs": [
    {
     "data": {
      "image/png": "[encoded data removed]",
      "text/plain": [
       "<Figure size 432x288 with 1 Axes>"
      ]
     },
     "metadata": {
      "needs_background": "light"
     },
     "output_type": "display_data"
    }
   ],
   "source": [
    "import matplotlib.pyplot as plt\n",
    "import numpy as np\n",
    "\n",
    "cnums = np.arange(5) + 9j* np.arange(6,11)\n",
    "X = [x.real for x in cnums]\n",
    "Y = [x.imag for x in cnums]\n",
    "plt.scatter(X,Y, color='red')\n",
    "plt.show()"
   ]
  },
  {
   "cell_type": "code",
   "execution_count": 26,
   "metadata": {},
   "outputs": [
    {
     "data": {
      "text/plain": [
       "False"
      ]
     },
     "execution_count": 26,
     "metadata": {},
     "output_type": "execute_result"
    }
   ],
   "source": [
    "#in operation in string\n",
    "string1 = \"ABCDEFGHIJKLMNOPQRSTUVWXYZ\"\n",
    "' thon ' in string1"
   ]
  },
  {
   "cell_type": "code",
   "execution_count": 27,
   "metadata": {},
   "outputs": [
    {
     "name": "stdout",
     "output_type": "stream",
     "text": [
      "ACEGIKMOQSUWY\n",
      "BDFHJLNPRTVXZ\n",
      "13579\n",
      "2468\n"
     ]
    }
   ],
   "source": [
    "#slicing in python, Here two indices are used separated by a colon (:). A slice 3:7 means indices characters of 3rd, 4th, 5th and 6th positions. The second integer index i.e. 7 is not included. \n",
    "\n",
    "print(string1[::2]) #all odd number will be print\n",
    "print(string1[1::2]) #all even number will be print\n",
    "number = \"123456789\"\n",
    "print(number[::2]) #all odd number will be print\n",
    "print(number[1::2]) #all even number will be print"
   ]
  },
  {
   "cell_type": "code",
   "execution_count": 28,
   "metadata": {},
   "outputs": [
    {
     "data": {
      "text/plain": [
       "True"
      ]
     },
     "execution_count": 28,
     "metadata": {},
     "output_type": "execute_result"
    }
   ],
   "source": [
    "#type casting\n",
    "float(\"4.5\")\n",
    "int(\"25\")\n",
    "int(5.625)\n",
    "float(6)\n",
    "int(True)\n",
    "float(False)\n",
    "str(True)\n",
    "bool(0)\n",
    "bool('Hello world')\n",
    "bool(223.5)\n"
   ]
  },
  {
   "cell_type": "code",
   "execution_count": 29,
   "metadata": {},
   "outputs": [
    {
     "name": "stdout",
     "output_type": "stream",
     "text": [
      "3.72\n"
     ]
    },
    {
     "data": {
      "text/plain": [
       "(2, 4, 'rabby', 3.1416, 'BOSS')"
      ]
     },
     "execution_count": 29,
     "metadata": {},
     "output_type": "execute_result"
    }
   ],
   "source": [
    "#tuples \n",
    "tup = (1,2,3,4,5,\"rabby\", \"tariq\", 3.1416, 3.72, \"BOSS\")\n",
    "print(tup[8])\n",
    "#tup[5]\n",
    "tup[1::2]"
   ]
  },
  {
   "cell_type": "code",
   "execution_count": 30,
   "metadata": {},
   "outputs": [
    {
     "name": "stdout",
     "output_type": "stream",
     "text": [
      "(2, 4, 6)\n",
      "(1, 2, 3, 4, 5, 'rabby', 'tariq', 3.1416, 3.72, 'BOSS', 1, 2, 3, 4, 5, 'rabby', 'tariq', 3.1416, 3.72, 'BOSS')\n"
     ]
    }
   ],
   "source": [
    "tup1 = (1,2,3)\n",
    "tup2 = (4,5,6)\n",
    "tup3 = tup1+tup2\n",
    "print(tup3[1::2])\n",
    "tup4 = tup*2\n",
    "print(tup4)"
   ]
  },
  {
   "cell_type": "code",
   "execution_count": 31,
   "metadata": {},
   "outputs": [
    {
     "name": "stdout",
     "output_type": "stream",
     "text": [
      "[1, 2, 3, 4, 5, 'rabby', 'tariq', 3.1416, 3.72, 'BOSS']\n",
      "[1, 122, 3, 4, 5, 'rabby', 'tariq', 3.1416, 3.72, 'BOSS']\n"
     ]
    }
   ],
   "source": [
    "#list are also looks like tuples but list are mutable i.e we can change any index in list not in tuples\n",
    "myList = [1, 2, 3, 4, 5, 'rabby', 'tariq', 3.1416, 3.72, 'BOSS']\n",
    "print(myList)\n",
    "myList[1] = 122 #Items in the list are mutable i.e. after creating a list you can change any item in the list. \n",
    "print(myList)"
   ]
  },
  {
   "cell_type": "code",
   "execution_count": 32,
   "metadata": {},
   "outputs": [
    {
     "name": "stdout",
     "output_type": "stream",
     "text": [
      "{1, 2, 3, 4, 5, 6, 8, 9}\n",
      "{1, 2, 3, 4, 5, 6, 7}\n",
      "{8, 9}\n",
      "{7}\n",
      "{7, 8, 9}\n"
     ]
    }
   ],
   "source": [
    "a = [1,2,3,4,5,1,2,3,6,3,8,9,5,4,2]\n",
    "b = [1,1,2,2,3,3,4,4,5,5,6,6,7,7]\n",
    "setA = set(a)\n",
    "setB = set(b)\n",
    "print(setA) #holds only unique numbers\n",
    "print(setB)\n",
    "print(setA-setB) #A intersect B\n",
    "print(setB-setA) #B intersect A\n",
    "print(setA^setB) #A xor B\n",
    ";#ultimetly we can do set operations here"
   ]
  },
  {
   "cell_type": "code",
   "execution_count": 33,
   "metadata": {},
   "outputs": [
    {
     "name": "stdout",
     "output_type": "stream",
     "text": [
      "V\n",
      "{'Class': 'V', 'Section': 'A', 'Roll_No': 3}\n"
     ]
    },
    {
     "data": {
      "text/plain": [
       "True"
      ]
     },
     "execution_count": 33,
     "metadata": {},
     "output_type": "execute_result"
    }
   ],
   "source": [
    "#dictonary \n",
    "dictd = {\"Class\":\"V\", \"Section\":\"A\", \"Roll_No\":2}\n",
    "dictd1 = {\"Class\":\"V\", \"Section\":\"A\", \"Roll_No\":3}\n",
    "\n",
    "print(dictd[\"Class\"])\n",
    "print(dictd1)\n",
    "\"Section\" in dictd1"
   ]
  },
  {
   "cell_type": "code",
   "execution_count": 34,
   "metadata": {},
   "outputs": [
    {
     "name": "stdout",
     "output_type": "stream",
     "text": [
      "11\n",
      "-1\n",
      "30\n",
      "0.8333333333333334\n",
      "5\n",
      "15625\n",
      "0\n"
     ]
    }
   ],
   "source": [
    "x = 5\n",
    "y = 6\n",
    "#+=\t\n",
    "x+=y#\tx = x + y\tAdds 2 numbers and assigns the result to left operand.\n",
    "print(x)\n",
    "x = 5\n",
    "y = 6\n",
    "#-=\t\n",
    "x-= y#\tx = x -y\tSubtracts 2 numbers and assigns the result to left operand.\n",
    "#*=\t\n",
    "print(x)\n",
    "x = 5\n",
    "y = 6\n",
    "x*= y#\tx = x*y\tMultiplies 2 numbers and assigns the result to left operand.\n",
    "#/=\t\n",
    "print(x)\n",
    "x = 5\n",
    "y = 6\n",
    "x/= y#\tx = x/y\tDivides 2 numbers and assigns the result to left operand.\n",
    "#%=\t\n",
    "print(x)\n",
    "x = 5\n",
    "y = 6\n",
    "x%= y#\tx = x%y\tComputes the modulus of 2 numbers and assigns the result to left operand.\n",
    "#**=\t\n",
    "print(x)\n",
    "x = 5\n",
    "y = 6\n",
    "x**=y#\tx = x**y\tPerforms exponential (power) calculation on operators and assign value to the equivalent to left operand.\n",
    "#//=\t\n",
    "print(x)\n",
    "x = 5\n",
    "y = 6\n",
    "x//=y#\tx = x//y\tPerforms floor division on operators and assign value to the left operand.\n",
    "print(x)"
   ]
  },
  {
   "cell_type": "code",
   "execution_count": 35,
   "metadata": {},
   "outputs": [
    {
     "name": "stdout",
     "output_type": "stream",
     "text": [
      "Enter a value 2\n",
      "False\n"
     ]
    }
   ],
   "source": [
    "#if elif else statement\n",
    "a = input(\"Enter a value \")\n",
    "if int(a)>3: #type casting needed, python takes a input as a string and needed to cast into integer\n",
    "    print(True)\n",
    "else:\n",
    "    print(False)"
   ]
  },
  {
   "cell_type": "code",
   "execution_count": 36,
   "metadata": {},
   "outputs": [
    {
     "name": "stdout",
     "output_type": "stream",
     "text": [
      "Enter obtain marks: 232\n",
      "Invalid Input\n"
     ]
    }
   ],
   "source": [
    "#now lets build a gradesheet\n",
    "marks = input(\"Enter obtain marks: \")\n",
    "if 80 <= float(marks) <=100:\n",
    "    print(\"A+\")\n",
    "elif 75< float(marks) <80:\n",
    "        print(\"A\")\n",
    "elif 70< float(marks) <76:\n",
    "        print(\"A-\")\n",
    "elif 65< float(marks) <71:\n",
    "        print(\"B+\")\n",
    "elif 59< float(marks) <66:\n",
    "        print(\"B\")\n",
    "elif float(marks) >100:\n",
    "    print(\"Invalid Input\")\n",
    "else:\n",
    "        print(\"Failed\")"
   ]
  },
  {
   "cell_type": "code",
   "execution_count": 37,
   "metadata": {},
   "outputs": [
    {
     "name": "stdout",
     "output_type": "stream",
     "text": [
      "Enter your age: 2\n",
      "Enter your gender: male\n",
      "You can't marry now, you are still a child.\n"
     ]
    }
   ],
   "source": [
    "#nested if\n",
    "# can you marry?\n",
    "age = input(\"Enter your age: \")\n",
    "gender = input(\"Enter your gender: \")\n",
    "if int(age)<18:\n",
    "    print(\"You can't marry now, you are still a child.\")\n",
    "elif int(age)>=18:\n",
    "        if gender == \"female\":\n",
    "            print(\"You can marry.\")\n",
    "        elif gender == \"male\" and int(age) <=20:\n",
    "            print(\"you are not suppose to marry now, please wait one year more\")\n",
    "        elif gender == \"male\" and int(age) >=20:\n",
    "            print(\"you can marry\")\n",
    "else:\n",
    "    print(\"You are dead.\")"
   ]
  },
  {
   "cell_type": "code",
   "execution_count": 38,
   "metadata": {},
   "outputs": [
    {
     "name": "stdout",
     "output_type": "stream",
     "text": [
      "science is available\n"
     ]
    }
   ],
   "source": [
    "# in in if statement\n",
    "s = \"science\"\n",
    "dept = [\"science\",\"arts\",\"commerece\"]\n",
    "if s in dept:\n",
    "    print(s+\" is available\")"
   ]
  },
  {
   "cell_type": "code",
   "execution_count": 39,
   "metadata": {},
   "outputs": [
    {
     "data": {
      "text/plain": [
       "'\\nn = 120\\nprint(n)\\nresult = n*7 if n>100 else n/12 #if n is greater than 100, n is multiplied by 7, otherwise n is divided by 12\\nprint(result)'"
      ]
     },
     "execution_count": 39,
     "metadata": {},
     "output_type": "execute_result"
    }
   ],
   "source": [
    "#single line if else statement\n",
    "\"\"\"\n",
    "n = 120\n",
    "print(n)\n",
    "result = n*7 if n>100 else n/12 #if n is greater than 100, n is multiplied by 7, otherwise n is divided by 12\n",
    "print(result)\"\"\""
   ]
  },
  {
   "cell_type": "code",
   "execution_count": 40,
   "metadata": {},
   "outputs": [
    {
     "name": "stdout",
     "output_type": "stream",
     "text": [
      "120\n",
      "840\n"
     ]
    }
   ],
   "source": [
    "n = 120\n",
    "print(n)\n",
    "result = n*7 if n>100 else n/12 #if n is greater than 100, n is multiplied by 7, otherwise n is divided by 12\n",
    "print(result)"
   ]
  },
  {
   "cell_type": "code",
   "execution_count": 41,
   "metadata": {},
   "outputs": [
    {
     "name": "stdout",
     "output_type": "stream",
     "text": [
      "13\n"
     ]
    }
   ],
   "source": [
    "x = 12\n",
    "if True:\n",
    "    x = 13\n",
    "print(x)"
   ]
  },
  {
   "cell_type": "code",
   "execution_count": 42,
   "metadata": {},
   "outputs": [
    {
     "name": "stdout",
     "output_type": "stream",
     "text": [
      "4 3\n"
     ]
    }
   ],
   "source": [
    "x = 3\n",
    "y = 4\n",
    "z = \"5\"\n",
    "#u = x+y+z\n",
    "#print(u)\n",
    "x,y=y,x\n",
    "print(x,y) "
   ]
  },
  {
   "cell_type": "code",
   "execution_count": 43,
   "metadata": {},
   "outputs": [
    {
     "name": "stdout",
     "output_type": "stream",
     "text": [
      "99\n"
     ]
    }
   ],
   "source": [
    "def var_test():\n",
    "    xx = 99\n",
    "    return xx\n",
    "print(var_test())\n",
    "#print(xx)\n",
    "    "
   ]
  },
  {
   "cell_type": "code",
   "execution_count": null,
   "metadata": {},
   "outputs": [],
   "source": [
    "# loop testing\n",
    "x = 2\n",
    "#while True:\n",
    "x = input()\n",
    "y = input()\n",
    "x,y = y,x\n",
    "print(x,y)\n"
   ]
  },
  {
   "cell_type": "code",
   "execution_count": 8,
   "metadata": {},
   "outputs": [
    {
     "name": "stdout",
     "output_type": "stream",
     "text": [
      "2\n",
      "4\n",
      "6\n",
      "8\n"
     ]
    }
   ],
   "source": [
    "# loop testing\n",
    "x = [1,2,3,4,5,6,7,8,9]\n",
    "for c in x:\n",
    "    if c%2==0:\n",
    "        print(c)\n",
    "#     else:\n",
    "#         print(c)"
   ]
  },
  {
   "cell_type": "code",
   "execution_count": 13,
   "metadata": {},
   "outputs": [
    {
     "name": "stdout",
     "output_type": "stream",
     "text": [
      "124\n",
      "1214\n",
      "322\n"
     ]
    }
   ],
   "source": [
    "color = [\"123\", \"1213\", \"321\"]\n",
    "for c in color:\n",
    "    print(int(c)+1)"
   ]
  },
  {
   "cell_type": "code",
   "execution_count": 14,
   "metadata": {},
   "outputs": [
    {
     "name": "stdout",
     "output_type": "stream",
     "text": [
      "0\n",
      "1\n",
      "2\n",
      "3\n",
      "4\n"
     ]
    }
   ],
   "source": [
    "for a in range(5):\n",
    "    print(a)"
   ]
  },
  {
   "cell_type": "code",
   "execution_count": 18,
   "metadata": {},
   "outputs": [
    {
     "name": "stdout",
     "output_type": "stream",
     "text": [
      "5\n",
      "6\n",
      "7\n",
      "8\n"
     ]
    }
   ],
   "source": [
    "#for \"variable\" in range(\"start_number\", \"end_number\"):\n",
    "for a in range(5,9):\n",
    "    print(a)"
   ]
  },
  {
   "cell_type": "code",
   "execution_count": 20,
   "metadata": {},
   "outputs": [
    {
     "name": "stdout",
     "output_type": "stream",
     "text": [
      "1\n",
      "6\n",
      "11\n",
      "16\n"
     ]
    },
    {
     "data": {
      "text/plain": [
       "0"
      ]
     },
     "execution_count": 20,
     "metadata": {},
     "output_type": "execute_result"
    }
   ],
   "source": [
    "#range(a,b,c): Generates a sequence of numbers from a to b excluding b, incrementing by c.\n",
    "for a in range(1,20,5):\n",
    "    print(a)\n",
    "a%2"
   ]
  },
  {
   "cell_type": "code",
   "execution_count": 27,
   "metadata": {},
   "outputs": [
    {
     "name": "stdout",
     "output_type": "stream",
     "text": [
      "odd  1\n",
      "even  2\n",
      "odd  3\n",
      "even  4\n",
      "odd  5\n",
      "even  6\n",
      "odd  7\n",
      "even  8\n",
      "odd  9\n",
      "Number of Odd number is:  5\n",
      "Number of even number is:  4\n"
     ]
    }
   ],
   "source": [
    "number = (1,2,3,4,5,6,7,8,9) #decalring tuples\n",
    "odd = 0\n",
    "even = 0\n",
    "for a in number:\n",
    "    if a%2:\n",
    "        odd +=1\n",
    "        print(\"odd \", a)\n",
    "    else:\n",
    "        even +=1\n",
    "        print(\"even \",a)\n",
    "print(\"Number of Odd number is: \",odd)\n",
    "print(\"Number of even number is: \",even)"
   ]
  },
  {
   "cell_type": "code",
   "execution_count": 11,
   "metadata": {},
   "outputs": [
    {
     "name": "stdout",
     "output_type": "stream",
     "text": [
      "1452\n",
      "11.23\n",
      "(1+2j)\n",
      "True\n",
      "w3resource\n",
      "(0, -1)\n",
      "[5, 12]\n",
      "{'class': 'V', 'section': 'A'}\n"
     ]
    }
   ],
   "source": [
    "datalist = [1452, 11.23, 1+2j, True, 'w3resource', (0, -1), [5, 12],\n",
    "{\"class\":'V', \"section\":'A'}]\n",
    "for item in datalist:\n",
    "    #if \"V\" in \"class\":\n",
    "    print(item)"
   ]
  },
  {
   "cell_type": "code",
   "execution_count": 23,
   "metadata": {},
   "outputs": [
    {
     "name": "stdout",
     "output_type": "stream",
     "text": [
      "c1\n",
      "c2\n",
      "c3\n",
      "c4\n",
      "Red\n",
      "Green\n",
      "Blue\n",
      "White\n",
      "R\n",
      "G\n",
      "B\n",
      "W\n"
     ]
    }
   ],
   "source": [
    "colors = { \"c1\":\"Red\", \"c2\":\"Green\", \"c3\":\"Blue\", \"c4\":\"White\"}\n",
    "for item in colors:\n",
    "    print(item)\n",
    "for item in colors.values():\n",
    "    print(item)\n",
    "for item in colors.values():\n",
    "    print(item[0])"
   ]
  },
  {
   "cell_type": "code",
   "execution_count": 25,
   "metadata": {},
   "outputs": [
    {
     "name": "stdout",
     "output_type": "stream",
     "text": [
      "Red\n",
      "Green\n",
      "Blue\n",
      "White\n",
      "Black\n"
     ]
    }
   ],
   "source": [
    "#else will execute after finishing the loop\n",
    "colors = { \"c1\":\"Red\", \"c2\":\"Green\", \"c3\":\"Blue\", \"c4\":\"White\"}\n",
    "for item in colors.values():\n",
    "    print(item)\n",
    "else:\n",
    "    print(\"Black\")"
   ]
  },
  {
   "cell_type": "code",
   "execution_count": 34,
   "metadata": {},
   "outputs": [
    {
     "name": "stdout",
     "output_type": "stream",
     "text": [
      "2\n",
      "4\n",
      "8\n"
     ]
    }
   ],
   "source": [
    "#while loop\n",
    "x = 1\n",
    "while x<5:\n",
    "    x +=x\n",
    "    print(x)"
   ]
  },
  {
   "cell_type": "code",
   "execution_count": 1,
   "metadata": {},
   "outputs": [
    {
     "name": "stdout",
     "output_type": "stream",
     "text": [
      "Enter nth number: 11\n",
      "Sum of the nth Number is:  66\n"
     ]
    }
   ],
   "source": [
    "x = input(\"Enter nth number: \")\n",
    "sum = 0\n",
    "n = 0\n",
    "while n <= int(x):\n",
    "    sum +=n\n",
    "    n+=1\n",
    "else:\n",
    "    print(\"Sum of the nth Number is: \",sum)"
   ]
  },
  {
   "cell_type": "code",
   "execution_count": 15,
   "metadata": {},
   "outputs": [
    {
     "name": "stdout",
     "output_type": "stream",
     "text": [
      "Enter nth number: 12\n",
      "Sum of the 4th Number is:  10\n"
     ]
    }
   ],
   "source": [
    "x = input(\"Enter nth number: \")\n",
    "#m = input(\"Enter mth umber you want to sum: \")\n",
    "sum = 0\n",
    "n = 0\n",
    "while n <= int(x):\n",
    "    sum +=n\n",
    "    n+=1\n",
    "    if(n==5):\n",
    "        break\n",
    "else:\n",
    "    print(\"Sum of the nth Number is: \",sum)    \n",
    "print(\"Sum of the \"+str(n-1) +\"th Number is: \",sum)\n"
   ]
  },
  {
   "cell_type": "code",
   "execution_count": 18,
   "metadata": {},
   "outputs": [
    {
     "data": {
      "text/plain": [
       "416.6666666666667"
      ]
     },
     "execution_count": 18,
     "metadata": {},
     "output_type": "execute_result"
    }
   ],
   "source": [
    "30000/72"
   ]
  },
  {
   "cell_type": "code",
   "execution_count": 7,
   "metadata": {},
   "outputs": [
    {
     "name": "stdout",
     "output_type": "stream",
     "text": [
      "0\n",
      "1\n",
      "2\n",
      "3\n",
      "4\n",
      "5\n"
     ]
    }
   ],
   "source": [
    "for x in range(100):\n",
    "    if (x>=6):\n",
    "        continue\n",
    "    print(x)"
   ]
  },
  {
   "cell_type": "code",
   "execution_count": 3,
   "metadata": {},
   "outputs": [
    {
     "name": "stdout",
     "output_type": "stream",
     "text": [
      "[80, 121, 116, 104, 111, 110, 32, 66, 97, 110, 103, 108, 97]\n"
     ]
    }
   ],
   "source": [
    "x = b'Python Bangla'\n",
    "z=list(x)\n",
    "print(z)"
   ]
  },
  {
   "cell_type": "code",
   "execution_count": 5,
   "metadata": {},
   "outputs": [
    {
     "name": "stdout",
     "output_type": "stream",
     "text": [
      "b'\\x00\\x01\\x02\\x03\\x04\\x05\\x06\\x07\\x08\\t\\n\\x0b\\x0c\\r\\x0e\\x0f\\x10\\x11\\x12\\x13\\x14\\x15\\x16\\x17\\x18\\x19\\x1a\\x1b\\x1c\\x1d\\x1e\\x1f !\"#$%&\\'()*+,-./0123456789:;<=>?@ABCDEFGHIJKLMNOPQRSTUVWXYZ[\\\\]^_`abcdbfghcjklmndpqrstevwxyz{|}~\\x7f\\x80\\x81\\x82\\x83\\x84\\x85\\x86\\x87\\x88\\x89\\x8a\\x8b\\x8c\\x8d\\x8e\\x8f\\x90\\x91\\x92\\x93\\x94\\x95\\x96\\x97\\x98\\x99\\x9a\\x9b\\x9c\\x9d\\x9e\\x9f\\xa0\\xa1\\xa2\\xa3\\xa4\\xa5\\xa6\\xa7\\xa8\\xa9\\xaa\\xab\\xac\\xad\\xae\\xaf\\xb0\\xb1\\xb2\\xb3\\xb4\\xb5\\xb6\\xb7\\xb8\\xb9\\xba\\xbb\\xbc\\xbd\\xbe\\xbf\\xc0\\xc1\\xc2\\xc3\\xc4\\xc5\\xc6\\xc7\\xc8\\xc9\\xca\\xcb\\xcc\\xcd\\xce\\xcf\\xd0\\xd1\\xd2\\xd3\\xd4\\xd5\\xd6\\xd7\\xd8\\xd9\\xda\\xdb\\xdc\\xdd\\xde\\xdf\\xe0\\xe1\\xe2\\xe3\\xe4\\xe5\\xe6\\xe7\\xe8\\xe9\\xea\\xeb\\xec\\xed\\xee\\xef\\xf0\\xf1\\xf2\\xf3\\xf4\\xf5\\xf6\\xf7\\xf8\\xf9\\xfa\\xfb\\xfc\\xfd\\xfe\\xff'\n",
      "<class 'bytes'>\n"
     ]
    }
   ],
   "source": [
    "b_table = bytes.maketrans(b'aeiou',b'abcde')\n",
    "print(b_table)\n",
    "print(type(b_table))"
   ]
  },
  {
   "cell_type": "code",
   "execution_count": 17,
   "metadata": {},
   "outputs": [
    {
     "name": "stdout",
     "output_type": "stream",
     "text": [
      "Ed5c1t34n\n",
      "Wr3t2 1 Pyth4n f5nct34n t4 f3nd 1 d3st3nct p13r 4f n5mb2rs wh4s2 pr4d5ct 3s 4dd fr4m 1 s2q52nc2 4f 3nt2g2r v1l52s.\n"
     ]
    }
   ],
   "source": [
    "b_table = bytes.maketrans(b'AEIOU' and b'aeiou',b'12345')\n",
    "str=\"Education\"\n",
    "str1=\"Write a Python function to find a distinct pair of numbers whose product is odd from a sequence of integer values.\"\n",
    "b_new=str.translate(b_table)\n",
    "b_new1=str1.translate(b_table)\n",
    "print(b_new)\n",
    "print(b_new1)"
   ]
  },
  {
   "cell_type": "code",
   "execution_count": 18,
   "metadata": {},
   "outputs": [
    {
     "name": "stdout",
     "output_type": "stream",
     "text": [
      "Education\n",
      "Write a Python function to find a distinct pair of numbers whose product is odd from a sequence of integer values.\n"
     ]
    }
   ],
   "source": [
    "b_table = bytes.maketrans(b'12345',b'aeiou')\n",
    "#str=\"Education\"\n",
    "b_new=str.translate(b_table)\n",
    "b_new1=str1.translate(b_table)\n",
    "print(b_new)\n",
    "print(b_new1)"
   ]
  },
  {
   "cell_type": "code",
   "execution_count": null,
   "metadata": {},
   "outputs": [],
   "source": [
    "#lets learn encode_decode\n",
    "import binascii\n",
    "binascii.hexlify(\"Python\".encode(\"utf8\"))\n",
    "#binascii.hexlify(\"Python\".encode(\"utf8\"))"
   ]
  },
  {
   "cell_type": "code",
   "execution_count": null,
   "metadata": {},
   "outputs": [],
   "source": []
  }
 ],
 "metadata": {
  "kernelspec": {
   "display_name": "Python 3",
   "language": "python",
   "name": "python3"
  },
  "language_info": {
   "codemirror_mode": {
    "name": "ipython",
    "version": 3
   },
   "file_extension": ".py",
   "mimetype": "text/x-python",
   "name": "python",
   "nbconvert_exporter": "python",
   "pygments_lexer": "ipython3",
   "version": "3.7.6"
  }
 },
 "nbformat": 4,
 "nbformat_minor": 4
}
