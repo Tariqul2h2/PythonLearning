{
 "cells": [
  {
   "cell_type": "code",
   "execution_count": 1,
   "metadata": {},
   "outputs": [],
   "source": [
    "# Tic-Tac-Toe Program using \n",
    "# random number in Python \n",
    "\n",
    "# importing all necessary libraries \n",
    "import numpy as np \n",
    "import random \n",
    "from time import sleep "
   ]
  },
  {
   "cell_type": "code",
   "execution_count": 2,
   "metadata": {},
   "outputs": [],
   "source": [
    "# Creates an empty board \n",
    "def create_board(): \n",
    "    return(np.array([[0, 0, 0], \n",
    "                    [0, 0, 0], \n",
    "                    [0, 0, 0]])) \n"
   ]
  },
  {
   "cell_type": "code",
   "execution_count": 3,
   "metadata": {},
   "outputs": [],
   "source": [
    "# Check for empty places on board \n",
    "def possibilities(board): \n",
    "    l = [] \n",
    "    \n",
    "    for i in range(len(board)): \n",
    "        for j in range(len(board)): \n",
    "            \n",
    "            if board[i][j] == 0: \n",
    "                l.append((i, j)) \n",
    "    return(l) "
   ]
  },
  {
   "cell_type": "code",
   "execution_count": 4,
   "metadata": {},
   "outputs": [],
   "source": [
    "# Select a random place for the player \n",
    "def random_place(board, player): \n",
    "    selection = possibilities(board) \n",
    "    current_loc = random.choice(selection) \n",
    "    board[current_loc] = player \n",
    "    return(board) \n",
    "\n",
    "# Checks whether the player has three \n",
    "# of their marks in a horizontal row \n",
    "def row_win(board, player): \n",
    "    for x in range(len(board)): \n",
    "        win = True\n",
    "        \n",
    "        for y in range(len(board)): \n",
    "            if board[x, y] != player: \n",
    "                win = False\n",
    "                continue\n",
    "                \n",
    "        if win == True: \n",
    "            return(win) \n",
    "    return(win)"
   ]
  },
  {
   "cell_type": "code",
   "execution_count": 5,
   "metadata": {},
   "outputs": [],
   "source": [
    "# Checks whether the player has three \n",
    "# of their marks in a vertical row \n",
    "def col_win(board, player): \n",
    "    for x in range(len(board)): \n",
    "        win = True\n",
    "        \n",
    "        for y in range(len(board)): \n",
    "            if board[y][x] != player: \n",
    "                win = False\n",
    "                continue\n",
    "                \n",
    "        if win == True: \n",
    "            return(win) \n",
    "    return(win) "
   ]
  },
  {
   "cell_type": "code",
   "execution_count": null,
   "metadata": {},
   "outputs": [],
   "source": [
    "\n",
    "# Checks whether the player has three \n",
    "# of their marks in a diagonal row \n",
    "def diag_win(board, player): \n",
    "    win = True\n",
    "    \n",
    "    for x in range(len(board)): \n",
    "        if board[x, x] != player: \n",
    "            win = False\n",
    "    return(win) \n",
    "\n",
    "# Evaluates whether there is \n",
    "# a winner or a tie \n",
    "def evaluate(board): \n",
    "    winner = 0\n",
    "    \n",
    "    for player in [1, 2]: \n",
    "        if (row_win(board, player) or\n",
    "            col_win(board,player) or\n",
    "            diag_win(board,player)): \n",
    "                \n",
    "            winner = player \n",
    "            \n",
    "    if np.all(board != 0) and winner == 0: \n",
    "        winner = -1\n",
    "    return winner \n",
    "\n",
    "# Main function to start the game \n",
    "def play_game(): \n",
    "    board, winner, counter = create_board(), 0, 1\n",
    "    print(board) \n",
    "    sleep(2) \n",
    "    \n",
    "    while winner == 0: \n",
    "        for player in [1, 2]: \n",
    "            board = random_place(board, player) \n",
    "            print(\"Board after \" + str(counter) + \" move\") \n",
    "            print(board) \n",
    "            sleep(2) \n",
    "            counter += 1\n",
    "            winner = evaluate(board) \n",
    "            if winner != 0: \n",
    "                break\n",
    "    return(winner) \n",
    "\n",
    "# Driver Code \n",
    "print(\"Winner is: \" + str(play_game())) "
   ]
  }
 ],
 "metadata": {
  "kernelspec": {
   "display_name": "Python 3",
   "language": "python",
   "name": "python3"
  },
  "language_info": {
   "codemirror_mode": {
    "name": "ipython",
    "version": 3
   },
   "file_extension": ".py",
   "mimetype": "text/x-python",
   "name": "python",
   "nbconvert_exporter": "python",
   "pygments_lexer": "ipython3",
   "version": "3.7.6"
  }
 },
 "nbformat": 4,
 "nbformat_minor": 4
}
