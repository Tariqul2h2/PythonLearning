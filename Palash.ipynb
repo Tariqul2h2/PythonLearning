{
 "cells": [
  {
   "cell_type": "code",
   "execution_count": 1,
   "metadata": {},
   "outputs": [
    {
     "name": "stdout",
     "output_type": "stream",
     "text": [
      "Hello Palash\n"
     ]
    }
   ],
   "source": [
    "print('Hello Palash')"
   ]
  },
  {
   "cell_type": "code",
   "execution_count": 2,
   "metadata": {},
   "outputs": [
    {
     "name": "stdout",
     "output_type": "stream",
     "text": [
      "11\n"
     ]
    }
   ],
   "source": [
    "a = 5\n",
    "b = 6\n",
    "print(a+b)"
   ]
  },
  {
   "cell_type": "code",
   "execution_count": 14,
   "metadata": {},
   "outputs": [
    {
     "name": "stdout",
     "output_type": "stream",
     "text": [
      "1231.2\n"
     ]
    }
   ],
   "source": [
    "roll = float(input('Enter your roll number'))\n",
    "print(roll)"
   ]
  },
  {
   "cell_type": "code",
   "execution_count": 9,
   "metadata": {},
   "outputs": [
    {
     "name": "stdout",
     "output_type": "stream",
     "text": [
      "A = 5 and B = 6\n"
     ]
    }
   ],
   "source": [
    "print(f'A = {a} and B = {b}')"
   ]
  },
  {
   "cell_type": "code",
   "execution_count": 28,
   "metadata": {},
   "outputs": [
    {
     "name": "stdout",
     "output_type": "stream",
     "text": [
      "Palash\n"
     ]
    }
   ],
   "source": [
    "NAME = 'Palash'\n",
    "print(NAME)\n",
    "#Integer\n",
    "#String\n",
    "#Float\n",
    "#Date\n",
    "#Bool"
   ]
  },
  {
   "cell_type": "code",
   "execution_count": 35,
   "metadata": {},
   "outputs": [
    {
     "name": "stdout",
     "output_type": "stream",
     "text": [
      "CSE101 <class 'str'>\n",
      "CSE102 <class 'str'>\n",
      "1234 <class 'int'>\n",
      "EEE101 <class 'str'>\n",
      "123.45 <class 'float'>\n",
      "True <class 'bool'>\n",
      "01/01/95 <class 'str'>\n"
     ]
    }
   ],
   "source": [
    "Course = ['CSE101','CSE102',1234,'EEE101',123.45,True, '01/01/95']\n",
    "for course in Course:\n",
    "    print(course, type(course))"
   ]
  },
  {
   "cell_type": "code",
   "execution_count": 40,
   "metadata": {},
   "outputs": [
    {
     "name": "stdout",
     "output_type": "stream",
     "text": [
      "['CSE101', 'CSE102', 'EEE101']\n",
      "['CSE101', 'CSE102', 'EEE101', 'MTH404']\n"
     ]
    }
   ],
   "source": [
    "Course = ['CSE101','CSE102','EEE101']\n",
    "print(Course)\n",
    "Course.append('MTH404')\n",
    "print(Course)"
   ]
  },
  {
   "cell_type": "code",
   "execution_count": 44,
   "metadata": {},
   "outputs": [
    {
     "name": "stdout",
     "output_type": "stream",
     "text": [
      "[['CSE101', 'CSE102', 'CSE201', 'CSE202', 'CSE301'],\n",
      " ['EEE101', 'EEE102', 'EEE201'],\n",
      " 'ENG101',\n",
      " 'STAT102',\n",
      " ['MTH101', 'MTH102', 'MTH201']]\n",
      "[['CSE101', 'CSE102', 'CSE201', 'CSE202', 'CSE301'], ['EEE101', 'EEE102', 'EEE201'], 'ENG101', 'STAT102', ['MTH101', 'MTH102', 'MTH201']]\n"
     ]
    }
   ],
   "source": [
    "from pprint import pprint\n",
    "CSE = ['CSE101','CSE102','CSE201', 'CSE202', 'CSE301']\n",
    "EEE = ['EEE101', 'EEE102', 'EEE201']\n",
    "MTH = ['MTH101','MTH102','MTH201']\n",
    "Department = [CSE,EEE,'ENG101','STAT102',MTH]\n",
    "pprint(Department)\n",
    "print(Department)"
   ]
  },
  {
   "cell_type": "code",
   "execution_count": 52,
   "metadata": {},
   "outputs": [
    {
     "name": "stdout",
     "output_type": "stream",
     "text": [
      "True\n"
     ]
    }
   ],
   "source": [
    "if 'CSE301' in Department[0]:\n",
    "    print(True)\n",
    "else:\n",
    "    print(False)"
   ]
  },
  {
   "cell_type": "code",
   "execution_count": 58,
   "metadata": {},
   "outputs": [
    {
     "name": "stdout",
     "output_type": "stream",
     "text": [
      "type of CSE101 is <class 'str'>\n",
      "type of CSE102 is <class 'str'>\n",
      "type of CSE201 is <class 'str'>\n",
      "type of CSE202 is <class 'str'>\n",
      "type of CSE301 is <class 'str'>\n",
      "type of EEE101 is <class 'str'>\n",
      "type of EEE102 is <class 'str'>\n",
      "type of EEE201 is <class 'str'>\n",
      "type of E is <class 'str'>\n",
      "type of N is <class 'str'>\n",
      "type of G is <class 'str'>\n",
      "type of 1 is <class 'str'>\n",
      "type of 0 is <class 'str'>\n",
      "type of 1 is <class 'str'>\n",
      "type of S is <class 'str'>\n",
      "type of T is <class 'str'>\n",
      "type of A is <class 'str'>\n",
      "type of T is <class 'str'>\n",
      "type of 1 is <class 'str'>\n",
      "type of 0 is <class 'str'>\n",
      "type of 2 is <class 'str'>\n",
      "type of MTH101 is <class 'str'>\n",
      "type of MTH102 is <class 'str'>\n",
      "type of MTH201 is <class 'str'>\n"
     ]
    }
   ],
   "source": [
    "# print(len(Department[4]))\n",
    "for dept in Department:\n",
    "    for d in dept:\n",
    "        print(f'type of {d} is {type(d)}')\n"
   ]
  },
  {
   "cell_type": "code",
   "execution_count": 59,
   "metadata": {},
   "outputs": [
    {
     "name": "stdout",
     "output_type": "stream",
     "text": [
      "1 4 2 3\n"
     ]
    }
   ],
   "source": [
    "a,b,c,d = 1,2,3,4\n",
    "print(a,d,b,c)"
   ]
  },
  {
   "cell_type": "code",
   "execution_count": 21,
   "metadata": {},
   "outputs": [
    {
     "name": "stdout",
     "output_type": "stream",
     "text": [
      "['0', '1', '1', '2', '3', '5', '8', '13', '21', '34', '55', '89']\n"
     ]
    }
   ],
   "source": [
    "# 0,1,1,2,3,5,8...\n",
    "from pprint import pprint\n",
    "a,b = 0,1\n",
    "PALASH = []\n",
    "while a <100:\n",
    "    PALASH.append(a)\n",
    "    a,b = b, a+b\n",
    "print(PALASH)"
   ]
  },
  {
   "cell_type": "code",
   "execution_count": 24,
   "metadata": {},
   "outputs": [
    {
     "name": "stdout",
     "output_type": "stream",
     "text": [
      "4\n",
      "5\n",
      "6\n",
      "7\n",
      "8\n",
      "9\n",
      "10\n"
     ]
    }
   ],
   "source": [
    "for i in range(4,11):\n",
    "    print(i)"
   ]
  }
 ],
 "metadata": {
  "kernelspec": {
   "display_name": "Python 3",
   "language": "python",
   "name": "python3"
  },
  "language_info": {
   "codemirror_mode": {
    "name": "ipython",
    "version": 3
   },
   "file_extension": ".py",
   "mimetype": "text/x-python",
   "name": "python",
   "nbconvert_exporter": "python",
   "pygments_lexer": "ipython3",
   "version": "3.10.6"
  },
  "orig_nbformat": 4,
  "vscode": {
   "interpreter": {
    "hash": "e7370f93d1d0cde622a1f8e1c04877d8463912d04d973331ad4851f04de6915a"
   }
  }
 },
 "nbformat": 4,
 "nbformat_minor": 2
}
